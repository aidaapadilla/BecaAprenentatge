{
 "cells": [
  {
   "cell_type": "markdown",
   "metadata": {
    "slideshow": {
     "slide_type": "slide"
    }
   },
   "source": [
    "## Caso Viscosímetro de Cono y Placa\n",
    "\n",
    "_G. Raush_\n",
    "\n",
    "_Marzo 2021_\n",
    "\n",
    "_**Departamento de Mecànica de Fluids-UPC**_"
   ]
  },
  {
   "cell_type": "markdown",
   "metadata": {},
   "source": [
    "![enunciado](img/Prob_1p56FWhite.png)"
   ]
  },
  {
   "cell_type": "markdown",
   "metadata": {},
   "source": [
    "#### Hipótesis\n",
    "\n",
    "- $\\sin\\theta\\approx\\tan \\theta\\approx\\theta$\n",
    "- $\\mu$ constante de cambio temperatura, sistema cuasi isotérmico\n",
    "- $\\omega(t=\\infty) = \\omega_\\infty$ , régimen estacionario\n",
    "- fluido newtoniano $\\Rightarrow \\mu$ constante"
   ]
  },
  {
   "cell_type": "markdown",
   "metadata": {
    "slideshow": {
     "slide_type": "slide"
    }
   },
   "source": [
    "Comandos Importación de paquetes   necesarios para  el tratamiento simbólico"
   ]
  },
  {
   "cell_type": "code",
   "execution_count": 209,
   "metadata": {},
   "outputs": [],
   "source": [
    "import sympy as sp\n",
    "import matplotlib.pyplot as plt\n",
    "from sympy.printing import latex\n",
    "%matplotlib inline\n",
    "sp.init_printing()"
   ]
  },
  {
   "cell_type": "code",
   "execution_count": 216,
   "metadata": {},
   "outputs": [],
   "source": [
    "from IPython.display import display, Markdown, Math, Latex\n",
    "\n",
    "def printmd(string):\n",
    "    display(Markdown(string))\n",
    "def printmd2(expression):\n",
    "    display(Markdown(r'$$'+sp.latex(expression)+'$$'))"
   ]
  },
  {
   "cell_type": "markdown",
   "metadata": {
    "slideshow": {
     "slide_type": "slide"
    }
   },
   "source": [
    "Definición de las variables del problema"
   ]
  },
  {
   "cell_type": "code",
   "execution_count": 249,
   "metadata": {},
   "outputs": [],
   "source": [
    "r,R,theta,pi,mu = sp.symbols('r,R,theta,pi,mu',real=True,positive=True)\n",
    "V = sp.Function('V')"
   ]
  },
  {
   "cell_type": "markdown",
   "metadata": {
    "slideshow": {
     "slide_type": "slide"
    }
   },
   "source": [
    "Ley de Newton de la viscosidad"
   ]
  },
  {
   "cell_type": "code",
   "execution_count": 224,
   "metadata": {
    "slideshow": {
     "slide_type": "-"
    }
   },
   "outputs": [
    {
     "data": {
      "image/png": "[encoded data removed]",
      "text/latex": [
       "$\\displaystyle \\mu \\frac{d}{d y} V{\\left(y \\right)}$"
      ],
      "text/plain": [
       "  d       \n",
       "μ⋅──(V(y))\n",
       "  dy      "
      ]
     },
     "metadata": {},
     "output_type": "display_data"
    }
   ],
   "source": [
    "tau = mu*V(y).diff(y)\n",
    "display(tau)"
   ]
  },
  {
   "cell_type": "markdown",
   "metadata": {
    "slideshow": {
     "slide_type": "slide"
    }
   },
   "source": [
    "Si el espesor es pequeño $h<<r$, siendo $r$ la posición radial y $\\theta$ muy pequeño se pueden dar las condiciones de un perfil cuasi lineal en cada elemento de volumen del fluido de viscosidad $\\mu$."
   ]
  },
  {
   "cell_type": "markdown",
   "metadata": {
    "slideshow": {
     "slide_type": "slide"
    }
   },
   "source": [
    "El gradiente del perfil de velocidad es un valor constante y que solo depende de la posición radial y la distancia entre cono y placa. "
   ]
  },
  {
   "cell_type": "markdown",
   "metadata": {},
   "source": [
    "La altura de perfil, necesario para el cálculo del gradiente $\\frac{d}{dy}V(y)$ valdrá:"
   ]
  },
  {
   "cell_type": "code",
   "execution_count": 219,
   "metadata": {},
   "outputs": [
    {
     "data": {
      "text/markdown": [
       "$$h=r \\tan{\\left(\\theta \\right)}$$"
      ],
      "text/plain": [
       "<IPython.core.display.Markdown object>"
      ]
     },
     "metadata": {},
     "output_type": "display_data"
    }
   ],
   "source": [
    "h = r* sp.tan(theta)\n",
    "printmd('$$h='+sp.latex(h)+'$$')"
   ]
  },
  {
   "cell_type": "markdown",
   "metadata": {},
   "source": [
    "Pero con la hipótesis de que $\\theta$ es pequeño,"
   ]
  },
  {
   "cell_type": "code",
   "execution_count": 223,
   "metadata": {},
   "outputs": [
    {
     "data": {
      "text/markdown": [
       "$$h\\approx r \\theta$$"
      ],
      "text/plain": [
       "<IPython.core.display.Markdown object>"
      ]
     },
     "metadata": {},
     "output_type": "display_data"
    }
   ],
   "source": [
    "h = r*theta\n",
    "printmd('$$h\\\\approx '+sp.latex(h)+'$$')"
   ]
  },
  {
   "cell_type": "code",
   "execution_count": 231,
   "metadata": {},
   "outputs": [],
   "source": [
    "omega = sp.Symbol('omega')\n",
    "V = omega*r\n",
    "dVdy= V/h"
   ]
  },
  {
   "cell_type": "code",
   "execution_count": 232,
   "metadata": {},
   "outputs": [
    {
     "data": {
      "text/markdown": [
       "$\\frac{\\text{d}}{\\text{dy}}\\text{V} = \\frac{\\omega}{\\theta}$"
      ],
      "text/plain": [
       "<IPython.core.display.Markdown object>"
      ]
     },
     "metadata": {},
     "output_type": "display_data"
    }
   ],
   "source": [
    "printmd(r'$\\frac{\\text{d}}{\\text{dy}}\\text{V} = ' + sp.latex(dVdy)+'$')"
   ]
  },
  {
   "cell_type": "markdown",
   "metadata": {
    "slideshow": {
     "slide_type": "slide"
    }
   },
   "source": [
    "**Observación**: La principal ventaja de este modelo de viscosímetro es que el gradiente es independiente de la posición y se mantiene constate, dependiendo solo de la velocidad $\\omega$."
   ]
  },
  {
   "cell_type": "code",
   "execution_count": 248,
   "metadata": {},
   "outputs": [
    {
     "data": {
      "text/markdown": [
       "$$\\tau =\\frac{\\mu \\omega}{\\theta}$$"
      ],
      "text/plain": [
       "<IPython.core.display.Markdown object>"
      ]
     },
     "metadata": {},
     "output_type": "display_data"
    }
   ],
   "source": [
    "tau = mu*dVdy#.diff(y)\n",
    "tau\n",
    "printmd('$$\\\\tau ='+sp.latex(tau)+'$$')"
   ]
  },
  {
   "cell_type": "markdown",
   "metadata": {},
   "source": [
    "El diferencial de fuerza aplicada al cono por la fricción del fluid es $$dF=\\tau dA$$ siendo $$dA = 2\\pi r \\frac{dr}{\\cos\\theta}$$ pero $\\cos\\theta\\approx\\,1$, entonces, $$dA = 2\\pi r \\, dr$$ "
   ]
  },
  {
   "cell_type": "code",
   "execution_count": 235,
   "metadata": {},
   "outputs": [
    {
     "data": {
      "text/markdown": [
       "$$dF = \\frac{2 \\pi \\mu \\omega r}{\\theta}dr$$"
      ],
      "text/plain": [
       "<IPython.core.display.Markdown object>"
      ]
     },
     "metadata": {},
     "output_type": "display_data"
    }
   ],
   "source": [
    "dF = tau*2*sp.pi*r\n",
    "printmd(r'$$dF = ' + sp.latex(dF)+'dr$$')\n"
   ]
  },
  {
   "cell_type": "markdown",
   "metadata": {},
   "source": [
    "Y el momento ejercido sobre el diferencia de área del cono, $dA$ es $$dM = r \\,\\,dF$$"
   ]
  },
  {
   "cell_type": "code",
   "execution_count": 236,
   "metadata": {},
   "outputs": [
    {
     "data": {
      "text/markdown": [
       "$$dM = \\frac{2 \\pi \\mu \\omega r^{2}}{\\theta}dr$$"
      ],
      "text/plain": [
       "<IPython.core.display.Markdown object>"
      ]
     },
     "metadata": {},
     "output_type": "display_data"
    }
   ],
   "source": [
    "dM = dF * r\n",
    "printmd('$$dM = '+sp.latex(dM)+'dr$$')"
   ]
  },
  {
   "cell_type": "markdown",
   "metadata": {},
   "source": [
    "Integrando en $r=[0,R]$ conocemos el momento $M(t)$ "
   ]
  },
  {
   "cell_type": "code",
   "execution_count": 242,
   "metadata": {},
   "outputs": [
    {
     "data": {
      "text/markdown": [
       "$$M = \\frac{2 \\pi R^{3} \\mu \\omega}{3 \\theta}$$"
      ],
      "text/plain": [
       "<IPython.core.display.Markdown object>"
      ]
     },
     "metadata": {},
     "output_type": "display_data"
    }
   ],
   "source": [
    "R=sp.Symbol('R')\n",
    "Mstat=dM.integrate((r,0,R))\n",
    "printmd('$$M = '+sp.latex(Mstat)+'$$')"
   ]
  },
  {
   "cell_type": "code",
   "execution_count": 246,
   "metadata": {},
   "outputs": [
    {
     "data": {
      "image/png": "[encoded data removed]",
      "text/latex": [
       "$\\displaystyle \\frac{3 M \\theta}{2 \\pi R^{3} \\omega}$"
      ],
      "text/plain": [
       " 3⋅M⋅θ  \n",
       "────────\n",
       "     3  \n",
       "2⋅π⋅R ⋅ω"
      ]
     },
     "execution_count": 246,
     "metadata": {},
     "output_type": "execute_result"
    }
   ],
   "source": [
    "M=sp.Symbol('M')\n",
    "muFluid=sp.solve(sp.Eq(M,Mstat),mu)[0]\n",
    "muFluid"
   ]
  },
  {
   "cell_type": "code",
   "execution_count": 247,
   "metadata": {},
   "outputs": [
    {
     "data": {
      "text/markdown": [
       "$$\\mu = \\frac{3 M \\theta}{2 \\pi R^{3} \\omega}$$"
      ],
      "text/plain": [
       "<IPython.core.display.Markdown object>"
      ]
     },
     "metadata": {},
     "output_type": "display_data"
    }
   ],
   "source": [
    "printmd(r'$$\\mu = '+sp.latex(muFluid)+'$$')"
   ]
  },
  {
   "cell_type": "markdown",
   "metadata": {},
   "source": [
    "**Conclusiones**: se observa que la medida de la viscosidad solo depende de la velocidad angular, ya que el momento es una medida consecuencia de la misma. esto es una ventaja importante en la medida de fluidos no newtonianos como la sangre y las pinturas cosméticas."
   ]
  }
 ],
 "metadata": {
  "celltoolbar": "Slideshow",
  "kernelspec": {
   "display_name": "Python 3",
   "language": "python",
   "name": "python3"
  },
  "language_info": {
   "codemirror_mode": {
    "name": "ipython",
    "version": 3
   },
   "file_extension": ".py",
   "mimetype": "text/x-python",
   "name": "python",
   "nbconvert_exporter": "python",
   "pygments_lexer": "ipython3",
   "version": "3.7.9"
  }
 },
 "nbformat": 4,
 "nbformat_minor": 4
}
