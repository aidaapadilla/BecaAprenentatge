{
 "cells": [
  {
   "cell_type": "markdown",
   "metadata": {
    "slideshow": {
     "slide_type": "slide"
    }
   },
   "source": [
    "## Caso Viscosímetro de Cono (Caso Fluido Newtoniano)\n",
    "\n",
    "_G. Raush_\n",
    "\n",
    "_Marzo 2021_\n",
    "\n",
    "_**Departamento de Mecànica de Fluids-UPC**_"
   ]
  },
  {
   "cell_type": "markdown",
   "metadata": {},
   "source": [
    "![enunciado](img/Prob_1p53Fig.png)"
   ]
  },
  {
   "cell_type": "markdown",
   "metadata": {},
   "source": [
    "#### Hipótesis\n",
    "\n",
    "- $h<<r_0$\n",
    "- $\\mu$ constante\n",
    "- $\\omega(t=0) = \\omega_0$\n",
    "- fluido newtoniano $\\Rightarrow \\mu$ constante"
   ]
  },
  {
   "cell_type": "markdown",
   "metadata": {
    "slideshow": {
     "slide_type": "slide"
    }
   },
   "source": [
    "Comandos Importación de paquetes   necesarios para  el tratamiento simbólico"
   ]
  },
  {
   "cell_type": "code",
   "execution_count": 196,
   "metadata": {},
   "outputs": [],
   "source": [
    "import sympy as sp\n",
    "import matplotlib.pyplot as plt\n",
    "from sympy.printing import latex\n",
    "%matplotlib inline\n",
    "sp.init_printing()"
   ]
  },
  {
   "cell_type": "code",
   "execution_count": 207,
   "metadata": {},
   "outputs": [],
   "source": [
    "from IPython.display import display, Markdown, Math, Latex\n",
    "def printmd(string):\n",
    "    display(Markdown(string))\n",
    "def printmd2(expression):\n",
    "    display(Markdown(r'$$'+sp.latex(expression)+'$$'))"
   ]
  },
  {
   "cell_type": "markdown",
   "metadata": {
    "slideshow": {
     "slide_type": "slide"
    }
   },
   "source": [
    "Definición de las variables del problema"
   ]
  },
  {
   "cell_type": "code",
   "execution_count": 8,
   "metadata": {},
   "outputs": [],
   "source": [
    "r0,theta,h,pi,mu,g = sp.symbols('r0,theta,h,pi,mu,g',positive=True)\n",
    "V = sp.Function('V')\n",
    "y = sp.Symbol('y')\n",
    "#dh, tau = sp.symbols('dh,tau1')\n",
    "#dV_dy = sp.symbols('dV/dy')"
   ]
  },
  {
   "cell_type": "markdown",
   "metadata": {
    "slideshow": {
     "slide_type": "slide"
    }
   },
   "source": [
    "Ley de Newton de la viscosidad"
   ]
  },
  {
   "cell_type": "code",
   "execution_count": 9,
   "metadata": {
    "slideshow": {
     "slide_type": "-"
    }
   },
   "outputs": [
    {
     "data": {
      "image/png": "[encoded data removed]",
      "text/latex": [
       "$\\displaystyle \\mu \\frac{d}{d y} V{\\left(y \\right)}$"
      ],
      "text/plain": [
       "  d       \n",
       "μ⋅──(V(y))\n",
       "  dy      "
      ]
     },
     "metadata": {},
     "output_type": "display_data"
    }
   ],
   "source": [
    "tau = mu*V(y).diff(y)\n",
    "#sp.pprint(tau1)\n",
    "display(tau)"
   ]
  },
  {
   "cell_type": "markdown",
   "metadata": {
    "slideshow": {
     "slide_type": "slide"
    }
   },
   "source": [
    "Si el espesor es pequeño $h<<r_0$, para el caso de fluidos newtonianos,  la velocidad adopta un poerfil lineal que significa que el  perfil de velocidad es  lineal. Por lo tanto, el  gradiente de la velocidad es una constante. Como ejemplo podemos suponer una constante $a$ y la velocidad sigue la ley $V(y) = a y$ con lo que su gradiente será "
   ]
  },
  {
   "cell_type": "code",
   "execution_count": 27,
   "metadata": {},
   "outputs": [
    {
     "data": {
      "text/markdown": [
       "$\\frac{\\text{d}}{\\text{dy}}\\text{V(y)} = a$"
      ],
      "text/plain": [
       "<IPython.core.display.Markdown object>"
      ]
     },
     "metadata": {},
     "output_type": "display_data"
    }
   ],
   "source": [
    "from IPython.display import display, Markdown\n",
    "a = sp.Symbol('a')\n",
    "V = a*y\n",
    "display(Markdown(r'$\\frac{\\text{d}}{\\text{dy}}\\text{V(y)} = a$'))#.format(2.3)))"
   ]
  },
  {
   "cell_type": "markdown",
   "metadata": {},
   "source": [
    "El valor de la constante de gradiente es igual al ratio entre $$a = \\frac{\\omega(t) r}{h}$$"
   ]
  },
  {
   "cell_type": "code",
   "execution_count": 149,
   "metadata": {},
   "outputs": [],
   "source": [
    "t = sp.Symbol('t')\n",
    "r = sp.Symbol('r')\n",
    "omega = sp.Function('omega')"
   ]
  },
  {
   "cell_type": "code",
   "execution_count": 153,
   "metadata": {},
   "outputs": [
    {
     "data": {
      "text/markdown": [
       "$$\\tau =a \\mu$$"
      ],
      "text/plain": [
       "<IPython.core.display.Markdown object>"
      ]
     },
     "metadata": {},
     "output_type": "display_data"
    }
   ],
   "source": [
    "a = sp.Symbol('a')\n",
    "V = a*y\n",
    "tau = mu*V.diff(y)\n",
    "tau\n",
    "printmd('$$\\\\tau ='+sp.latex(tau)+'$$')"
   ]
  },
  {
   "cell_type": "code",
   "execution_count": 156,
   "metadata": {},
   "outputs": [
    {
     "data": {
      "image/png": "[encoded data removed]",
      "text/latex": [
       "$\\displaystyle \\frac{\\mu r \\omega{\\left(t \\right)}}{h}$"
      ],
      "text/plain": [
       "μ⋅r⋅ω(t)\n",
       "────────\n",
       "   h    "
      ]
     },
     "execution_count": 156,
     "metadata": {},
     "output_type": "execute_result"
    }
   ],
   "source": [
    "tau = tau.subs(a,omega(t)*r/h)\n",
    "tau"
   ]
  },
  {
   "cell_type": "markdown",
   "metadata": {},
   "source": [
    "El diferencial de fuerza aplicada al cono por la fricción del fluid es $$dF=\\tau dA$$ siendo $$dA = 2\\pi r \\frac{dr}{\\sin\\theta}$$"
   ]
  },
  {
   "cell_type": "code",
   "execution_count": 158,
   "metadata": {},
   "outputs": [
    {
     "data": {
      "text/markdown": [
       "$$dF = \\frac{2 \\pi \\mu r^{2} \\omega{\\left(t \\right)}}{h \\sin{\\left(\\theta \\right)}}dr$$"
      ],
      "text/plain": [
       "<IPython.core.display.Markdown object>"
      ]
     },
     "metadata": {},
     "output_type": "display_data"
    }
   ],
   "source": [
    "dF = tau*2*sp.pi*r/sp.sin(theta)\n",
    "printmd(r'$$dF = ' + sp.latex(dF)+'dr$$')\n"
   ]
  },
  {
   "cell_type": "markdown",
   "metadata": {},
   "source": [
    "Y el momento ejercido sobre el diferencia de área del cono, $dA$ es $$dM = dF r$$"
   ]
  },
  {
   "cell_type": "code",
   "execution_count": 160,
   "metadata": {},
   "outputs": [
    {
     "data": {
      "text/markdown": [
       "$$dM = \\frac{2 \\pi \\mu r^{3} \\omega{\\left(t \\right)}}{h \\sin{\\left(\\theta \\right)}}dr$$"
      ],
      "text/plain": [
       "<IPython.core.display.Markdown object>"
      ]
     },
     "metadata": {},
     "output_type": "display_data"
    }
   ],
   "source": [
    "dM = dF * r\n",
    "printmd('$$dM = '+sp.latex(dM)+'dr$$')"
   ]
  },
  {
   "cell_type": "markdown",
   "metadata": {},
   "source": [
    "Integrando en $r=[0,R]$ conocemos el momento $M(t)$ "
   ]
  },
  {
   "cell_type": "code",
   "execution_count": 161,
   "metadata": {},
   "outputs": [],
   "source": [
    "#sp.integrate?"
   ]
  },
  {
   "cell_type": "code",
   "execution_count": 162,
   "metadata": {},
   "outputs": [
    {
     "data": {
      "text/markdown": [
       "$$M(t) = \\frac{\\pi R^{4} \\mu \\omega{\\left(t \\right)}}{2 h \\sin{\\left(\\theta \\right)}}$$"
      ],
      "text/plain": [
       "<IPython.core.display.Markdown object>"
      ]
     },
     "metadata": {},
     "output_type": "display_data"
    }
   ],
   "source": [
    "R=sp.Symbol('R')\n",
    "M=dM.integrate((r,0,R))\n",
    "printmd('$$M(t) = '+sp.latex(M)+'$$')"
   ]
  },
  {
   "cell_type": "markdown",
   "metadata": {},
   "source": [
    "En el instante que desaparece el momento $M$, y luego de haber conseguido una velocidad $\\omega(t)=\\omega_0$ de régimen permanente, podemos conocer la evolución de $\\omega(t)$"
   ]
  },
  {
   "cell_type": "code",
   "execution_count": 165,
   "metadata": {},
   "outputs": [
    {
     "data": {
      "image/png": "[encoded data removed]",
      "text/latex": [
       "$\\displaystyle \\frac{d}{d t} \\omega{\\left(t \\right)}$"
      ],
      "text/plain": [
       "d       \n",
       "──(ω(t))\n",
       "dt      "
      ]
     },
     "execution_count": 165,
     "metadata": {},
     "output_type": "execute_result"
    }
   ],
   "source": [
    "sp.diff(omega(t),t)"
   ]
  },
  {
   "cell_type": "code",
   "execution_count": 166,
   "metadata": {},
   "outputs": [
    {
     "data": {
      "image/png": "[encoded data removed]",
      "text/latex": [
       "$\\displaystyle \\frac{d}{d t} \\omega{\\left(t \\right)}$"
      ],
      "text/plain": [
       "d       \n",
       "──(ω(t))\n",
       "dt      "
      ]
     },
     "execution_count": 166,
     "metadata": {},
     "output_type": "execute_result"
    }
   ],
   "source": [
    "omega(t).diff(t)"
   ]
  },
  {
   "cell_type": "markdown",
   "metadata": {},
   "source": [
    "$I$ es el momento de inercia del cono"
   ]
  },
  {
   "cell_type": "code",
   "execution_count": 177,
   "metadata": {},
   "outputs": [
    {
     "data": {
      "image/png": "[encoded data removed]",
      "text/latex": [
       "$\\displaystyle I \\frac{d}{d t} \\omega{\\left(t \\right)} + \\frac{\\pi R^{4} \\mu \\omega{\\left(t \\right)}}{2 h \\sin{\\left(\\theta \\right)}} = 0$"
      ],
      "text/plain": [
       "                4           \n",
       "  d          π⋅R ⋅μ⋅ω(t)    \n",
       "I⋅──(ω(t)) + ─────────── = 0\n",
       "  dt          2⋅h⋅sin(θ)    "
      ]
     },
     "execution_count": 177,
     "metadata": {},
     "output_type": "execute_result"
    }
   ],
   "source": [
    "I = sp.Symbol('I')\n",
    "sp.Eq(M+I*omega(t).diff(t),0)"
   ]
  },
  {
   "cell_type": "code",
   "execution_count": 178,
   "metadata": {},
   "outputs": [],
   "source": [
    "w0=sp.Symbol('w0')\n",
    "sol=sp.dsolve(sp.Eq(M+I*omega(t).diff(t),0),omega(t),ics={omega(0):w0})  "
   ]
  },
  {
   "cell_type": "code",
   "execution_count": 179,
   "metadata": {},
   "outputs": [
    {
     "data": {
      "image/png": "[encoded data removed]",
      "text/latex": [
       "$\\displaystyle \\omega{\\left(t \\right)} = e^{\\frac{I \\log{\\left(w_{0} \\right)} - \\frac{\\pi R^{4} \\mu t}{2 h \\sin{\\left(\\theta \\right)}}}{I}}$"
      ],
      "text/plain": [
       "                        4     \n",
       "                     π⋅R ⋅μ⋅t \n",
       "        I⋅log(w₀) - ──────────\n",
       "                    2⋅h⋅sin(θ)\n",
       "        ──────────────────────\n",
       "                  I           \n",
       "ω(t) = ℯ                      "
      ]
     },
     "execution_count": 179,
     "metadata": {},
     "output_type": "execute_result"
    }
   ],
   "source": [
    "sol"
   ]
  },
  {
   "cell_type": "code",
   "execution_count": 183,
   "metadata": {},
   "outputs": [
    {
     "data": {
      "image/png": "[encoded data removed]",
      "text/latex": [
       "$\\displaystyle w_{0} e^{- \\frac{\\pi R^{4} \\mu t}{2 I h \\sin{\\left(\\theta \\right)}}}$"
      ],
      "text/plain": [
       "         4      \n",
       "     -π⋅R ⋅μ⋅t  \n",
       "    ────────────\n",
       "    2⋅I⋅h⋅sin(θ)\n",
       "w₀⋅ℯ            "
      ]
     },
     "execution_count": 183,
     "metadata": {},
     "output_type": "execute_result"
    }
   ],
   "source": [
    "sol.rhs.simplify()"
   ]
  },
  {
   "cell_type": "code",
   "execution_count": 180,
   "metadata": {},
   "outputs": [
    {
     "data": {
      "text/markdown": [
       "$$\\omega{\\left(t \\right)} = w_{0} e^{- \\frac{\\pi R^{4} \\mu t}{2 I h \\sin{\\left(\\theta \\right)}}}$$"
      ],
      "text/plain": [
       "<IPython.core.display.Markdown object>"
      ]
     },
     "metadata": {},
     "output_type": "display_data"
    }
   ],
   "source": [
    "printmd('$$'+sp.latex(sol.simplify())+'$$')"
   ]
  },
  {
   "cell_type": "markdown",
   "metadata": {},
   "source": [
    "Vemos que la respuesta corresponde a un sistema lineal de primer orden amortiguado con una constante de tiempo igual a $$T=\\frac{2 I h \\sin \\theta}{\\pi\\mu R^4}$$"
   ]
  },
  {
   "cell_type": "markdown",
   "metadata": {},
   "source": [
    "Sustituyendo la expresión del momento de inercia de un cono rotando sobre su eje generatriz $$I=\\frac{3}{10} m R^2$$ siendo $m$ la masa del mismo"
   ]
  },
  {
   "cell_type": "code",
   "execution_count": 189,
   "metadata": {},
   "outputs": [
    {
     "data": {
      "image/png": "[encoded data removed]",
      "text/latex": [
       "$\\displaystyle w_{0} e^{- \\frac{1.66666666666667 \\pi R^{2} \\mu t}{h m \\sin{\\left(\\theta \\right)}}}$"
      ],
      "text/plain": [
       "                         2     \n",
       "    -1.66666666666667⋅π⋅R ⋅μ⋅t \n",
       "    ───────────────────────────\n",
       "             h⋅m⋅sin(θ)        \n",
       "w₀⋅ℯ                           "
      ]
     },
     "execution_count": 189,
     "metadata": {},
     "output_type": "execute_result"
    }
   ],
   "source": [
    "m = sp.Symbol('m')\n",
    "sol.rhs.simplify().subs(I,3/10*m*R**2)"
   ]
  },
  {
   "cell_type": "code",
   "execution_count": 208,
   "metadata": {},
   "outputs": [
    {
     "data": {
      "text/markdown": [
       "$$\\frac{0.6 h m \\sin{\\left(\\theta \\right)}}{\\pi R^{2} \\mu}$$"
      ],
      "text/plain": [
       "<IPython.core.display.Markdown object>"
      ]
     },
     "metadata": {},
     "output_type": "display_data"
    }
   ],
   "source": [
    "T=2*I*h*sp.sin(theta)/(sp.pi*mu*R**4)\n",
    "T2=T.subs(I,3/10*m*R**2)\n",
    "printmd2(T2)"
   ]
  },
  {
   "cell_type": "markdown",
   "metadata": {},
   "source": [
    "La constante de tiempo igual a $$T=\\frac{0.6 h m \\sin \\theta}{\\pi\\mu R^2}$$"
   ]
  },
  {
   "cell_type": "markdown",
   "metadata": {},
   "source": [
    "### Propuesta de problema amplicación\n",
    "\n",
    "Calcular la expresión de medida de la viscosidad $\\mu$ como función de $M,\\omega,\\theta$ para el caso de un elemento rotante troncocónico con dimensiones  $R_1$ y $R_2$ tal que $(R_1 < R_2)$. Disposición constructiva que evita el problema tecnológico de la fabricación de un cono en punta aguda.  "
   ]
  },
  {
   "cell_type": "code",
   "execution_count": null,
   "metadata": {},
   "outputs": [],
   "source": []
  },
  {
   "cell_type": "code",
   "execution_count": null,
   "metadata": {},
   "outputs": [],
   "source": []
  },
  {
   "cell_type": "markdown",
   "metadata": {},
   "source": [
    "\n",
    "<font size=\"5\"><span  style=\"color:red\"> **Se puede borrar:**</span> Old Problem</font>"
   ]
  },
  {
   "cell_type": "markdown",
   "metadata": {
    "slideshow": {
     "slide_type": "slide"
    }
   },
   "source": [
    "~~Por definición , el esfuerzo $\\tau_1$ en una fuerza repartida en un área. Por lo tanto, para calcular la fuerza ejercida necesitamos conocer el área de aplicación.\n",
    "\n",
    "dA,dz = sp.symbols('dA,dz')\n",
    "dA = pi*D*dz\n",
    "dA\n",
    "\n",
    "~~El diferencial de área , $dA = \\pi D dz$\n",
    "\n",
    "~~El diferencial de momentos es el producto del diferencial de fuerza por el brazo de palanca\n",
    "\n",
    "dM = sp.symbols('dM1')\n",
    "dM = (tau1*dA)*D/2\n",
    "dM\n",
    "\n",
    "#sp.pprint(dM)\n",
    "\n",
    "~~El diferencial de momento es función lineal con el número de revoluciones, por tratarse de un fluido newtoniano, (tiene un  perfil de velocidad lineal en su gradiente)\n",
    "\n",
    "$$dM = \\frac{D^{3}  \\mu_{1} \\omega \\pi}{4 h}dz$$\n",
    "\n",
    "~~Integramos en el dominio de la variable, $0 \\le z \\le H$. Este es el momento total aplicado en la pared del cilindro.\n",
    "\n",
    "M1 = sp.integrate(dM/dz,H)\n",
    "#sp.pprint(M1)\n",
    "M1\n",
    "\n",
    "#latex(M1)\n",
    "\n",
    "$$M_1 = \\frac{D^{3} H \\mu_{1} \\omega \\pi}{4 h}$$ \n",
    "\n",
    "~~Ecuación de momentos mecánicos en la pared de la base del cilindro rotante. Hay dos momentos diferentes debido a la existencia de dos fluidos. En ambos casos se calculan igual, solo que cambian las propiedades de los fluidos y los límites de integración.\n",
    "\n",
    "\n",
    "~~r,dr = sp.symbols('r,dr')\n",
    "\n",
    "~~Caso para el fluido 1, viscosidad: $\\mu_1$. La región de existencia es entre $d/2 \\le r \\le D/2$  \n",
    "\n",
    "dM = ((omega*r/e)*mu1)*(2*pi*r)*r*dr\n",
    "M2 = sp.integrate(dM/dr,(r,d/2,D/2))\n",
    "#sp.pprint(M2)\n",
    "M2\n",
    "\n",
    "M2 = M2.simplify()\n",
    "#sp.pprint(M2)\n",
    "M2\n",
    "\n",
    "#latex(M2)\n",
    "\n",
    "$$M_2 = \\frac{\\mu_{1} \\omega \\pi \\left(D^{4} - d^{4}\\right)}{32 e}$$\n",
    "\n",
    "~~Cálculo similar para el caso del Fluido 2, viscosidad : $\\mu_2$, en el caso del ejemplo _Agua_\n",
    "\n",
    "~~Ahora el dominio de la variable de integración es $0 \\le r \\le d/2$\n",
    "\n",
    "dM = ((omega*r/e)*mu2)*(2*pi*r)*r*dr\n",
    "M3 = sp.integrate(dM/dr,(r,0,d/2))\n",
    "M3 #sp.pprint(M3)\n",
    "\n",
    "#latex(M3)\n",
    "\n",
    "$$M_3 = \\frac{d^{4} \\mu_{2} \\omega \\pi}{32 e}$$\n",
    "\n",
    "~~El momento total sobre el rotor es la sumatoria de ellos. $$M_t = \\sum M_i$$\n",
    "\n",
    "\n",
    "M = M1+M2+M3\n",
    "M #sp.pprint(M)\n",
    "#sp.print_latex(M)\n",
    "\n",
    "#latex(M)\n",
    "\n",
    "~~Solución del momento total:\n",
    "\n",
    "~~$$M = \\frac{D^{3} H \\mu_{1} \\omega \\pi}{4 h} + \\frac{d^{4} \\mu_{2} \\omega \\pi}{32 e} + \\frac{\\mu_{1} \\omega \\pi \\left(D^{4} - d^{4}\\right)}{32 e}$$\n",
    "\n",
    "~~Como vemos en la expresión anterior, la presencia de un fluido extraño, por ejemplo: agua en aceite, el término de $\\mu_2$ desaparecería.  \n",
    "\n",
    "~~M.subs(mu2,0).simplify()\n",
    "\n",
    "~~De donde se puede despejar $\\mu_1$ y obtener la constante de calibración del viscosímetro.\n",
    "\n",
    "~~La potencia consumida por el viscosímetros es,\n",
    "\n",
    "~~Pw = omega * M.subs(mu2,0)\n",
    "~~Pw.expand().simplify()\n",
    "\n",
    "~~Pw = sp.Symbol('Pot')\n",
    "eq = sp.Eq(Pw - omega * M.subs(mu2,0))\n",
    "#eq\n",
    "#sp.solve(eq,mu1)\n",
    "\n",
    "~~Con la medida de la potencia $P_{tot}$ y una velocidad $\\omega$ se puede conocer el valor de la viscosidad $\\mu_1$ y los demás términos constantes se pueden conocer haciendo una calibración del viscosímetro usando un fluido de referencia como el agua.\n",
    "\n",
    "~~sp.solve(eq,mu1)[0].simplify()\n",
    "\n"
   ]
  },
  {
   "cell_type": "code",
   "execution_count": null,
   "metadata": {},
   "outputs": [],
   "source": []
  }
 ],
 "metadata": {
  "celltoolbar": "Slideshow",
  "kernelspec": {
   "display_name": "Python 3",
   "language": "python",
   "name": "python3"
  },
  "language_info": {
   "codemirror_mode": {
    "name": "ipython",
    "version": 3
   },
   "file_extension": ".py",
   "mimetype": "text/x-python",
   "name": "python",
   "nbconvert_exporter": "python",
   "pygments_lexer": "ipython3",
   "version": "3.7.9"
  }
 },
 "nbformat": 4,
 "nbformat_minor": 4
}
