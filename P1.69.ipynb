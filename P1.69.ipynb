{
 "cells": [
  {
   "cell_type": "markdown",
   "metadata": {},
   "source": [
    "## PROBLEMA 1.69\n",
    "\n",
    "Una aguja cilíndrica sólida de diámetro *d*, longitud *L* y densidad *ρc* puede fotar en la superficie de un líquido de tensión superficial *Y*. Despreciando la flotabilidad y suponiendo un ángulo de contacto de 0º, obtenga una expresión para el diámetro máximo *dmax* de una aguja que flote en el líquido. Calcule *dmax* para una aguja de acero. (densidad relativa *ρr*=7,84) en agua a 20ºC"
   ]
  },
  {
   "cell_type": "markdown",
   "metadata": {},
   "source": [
    "Este problema se puede solucionar aplicando el principio de acción y reacción de Newton, ya que tendremos: \n",
    "- Una fuerza vertical positiva compuesta por la longitud de la aguja y multiplicada por la tensión superficial del liquido\n",
    "- Una fuerza vertical negativa que corresponde al peso de la aguja \n",
    "\n",
    "Por lo tanto obtenemos\n",
    "W = mg = (L *x* ρc *x* πr^2 / 2) *x* g\n",
    "N = 2 *x* Y *x* L\n",
    "\n",
    "Finalmente sabemos que el sumatorio de fuerzas en el eje vertical debe ser igual a cero, y de allí aislamos *dmax=2r*\n",
    "\n",
    "dmax = raiz(8Y/π ρc g)"
   ]
  },
  {
   "cell_type": "code",
   "execution_count": 16,
   "metadata": {},
   "outputs": [
    {
     "name": "stdout",
     "output_type": "stream",
     "text": [
      "El diámetro máximo del cuerpo es: 1.56 mm\n"
     ]
    }
   ],
   "source": [
    "import math\n",
    "# Para encontrar los valores de tensión superficial miramos la tabla de liquidos\n",
    "Y=0.073\n",
    "ρc=7.84*998\n",
    "g=9.81\n",
    "\n",
    "dmax = math.sqrt((8*Y)/(math.pi*ρc*g)) * 1000 #Multiplicamos por 1000 para que este en milimetros el resultado\n",
    "print('El diámetro máximo del cuerpo es: %4.3g mm' %dmax)"
   ]
  },
  {
   "cell_type": "code",
   "execution_count": null,
   "metadata": {},
   "outputs": [],
   "source": []
  }
 ],
 "metadata": {
  "kernelspec": {
   "display_name": "Python 3",
   "language": "python",
   "name": "python3"
  },
  "language_info": {
   "codemirror_mode": {
    "name": "ipython",
    "version": 3
   },
   "file_extension": ".py",
   "mimetype": "text/x-python",
   "name": "python",
   "nbconvert_exporter": "python",
   "pygments_lexer": "ipython3",
   "version": "3.8.5"
  }
 },
 "nbformat": 4,
 "nbformat_minor": 4
}
