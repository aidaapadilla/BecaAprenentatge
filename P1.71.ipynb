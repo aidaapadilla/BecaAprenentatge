{
 "cells": [
  {
   "cell_type": "markdown",
   "metadata": {},
   "source": [
    "## PROBLEMA 1.71\n",
    "\n",
    "Una pompa de jabón de diámetro D1 se funde con otra pompa de diámetro D2 para formar una única pompa de diámetro D3 que contiene la misma cantidad de aire. Suponiendo que el proceso es isotermo, obtenga una expresión para D3, en función de D1, D2, *patm* y Y. \n"
   ]
  },
  {
   "cell_type": "markdown",
   "metadata": {},
   "source": [
    "En este problema, vamos a aplicar el principio de la conservación de la masa. \n",
    "Como nos indica que el proceso es isotérmico, deducimos que las masas iniciales deben ser iguales que las masas en la salida. \n",
    "Por lo tanto podemos deducir: \n",
    "1. Ecuación principal: masa pompa 1 + masa pompa 2 = masa pompa final\n",
    "    masa = densidad *x* volumen pompa\n",
    "    \n",
    "    A. Como necesitamos la densidad aplicamos la siguiente formula: \n",
    "        - PV = nRT\n",
    "        - Sabemos que ρ = masa/volumen y que n = masa / Masa molecular, por lo tanto\n",
    "        - ρ = Presión * Masa molecular / R * Temperatura \n",
    "        - Como las pompas estan todas compuestas por la misma masa molecular podemos ignorarla\n",
    "        \n",
    "    B. Finalmente obtenemos:\n",
    "        - ρ = (Patm + 4Y/r)/RT\n",
    "        - volumen = πD^3/6\n",
    "\n",
    "2. Ecuación final: \n",
    "    Para obtenerla hemos cancelado la temperatura ya que es constante. \n",
    "    \n",
    "##### (patm x D1^3 + 8 x Y x D1^2) + (patm x D2^3 + 8 x Y x D2^2) = (patm x D3^3 + 8 x Y x D3^2)\n",
    "\n",
    "Y de aqui podemos obtener el valor de el diámetro de la pompa final. "
   ]
  },
  {
   "cell_type": "code",
   "execution_count": null,
   "metadata": {},
   "outputs": [],
   "source": []
  }
 ],
 "metadata": {
  "kernelspec": {
   "display_name": "Python 3",
   "language": "python",
   "name": "python3"
  },
  "language_info": {
   "codemirror_mode": {
    "name": "ipython",
    "version": 3
   },
   "file_extension": ".py",
   "mimetype": "text/x-python",
   "name": "python",
   "nbconvert_exporter": "python",
   "pygments_lexer": "ipython3",
   "version": "3.8.5"
  }
 },
 "nbformat": 4,
 "nbformat_minor": 4
}
