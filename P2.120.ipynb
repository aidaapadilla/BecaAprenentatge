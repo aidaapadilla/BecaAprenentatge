{
 "cells": [
  {
   "attachments": {
    "p2.120.PNG": {
     "image/png": "[encoded data removed]"
    }
   },
   "cell_type": "markdown",
   "metadata": {},
   "source": [
    "## PROBLEMA 2.120\n",
    "Una viga uniforme de madera (SG=0.65) mide 10cm por 10cm por 3m y está articulada en A según se muestra en la Figura P2.120. ¿Cuál es el ángulo θ con el que la biga flotará en agua a T=20ºC?\n",
    "![p2.120.PNG](attachment:p2.120.PNG)"
   ]
  },
  {
   "cell_type": "markdown",
   "metadata": {},
   "source": [
    "En este ejercicio nos piden que calculemos el ángulo para que la viga flote.    \n",
    "Para hacerlo vamos a tener en cuenta las fuerzas que actuan en la viga, que en este caso seran el peso y la flotabilidad.   \n",
    "\n",
    "1. Primero de todo calculamos el peso\n",
    "  - W = SG_madera * ɣw * Volumen_madera\n",
    "  \n",
    "2. Posteriormente calculamos la flotabilidad \n",
    "  - B = ɣw * altura_madera * base_madera * H \n",
    "  \n",
    "Donde H sera la longitud de madera que esta sumergida debajo del agua\n",
    "\n",
    "3. Finalmente, como el sumatorio de momentos en el la articulación A debe ser cero para que la viga no flote, podemos aislar el ángulo que nos piden en el enunciado\n",
    "  - ΣM(A) = 0 \n",
    "  - B * dist_BA - W * dist_WA = 0. \n",
    "  \n",
    "4. Fórmula a resolver: \n",
    "##### B * (3 - H/2) * cos(θ) - W * (3/2*cos(θ)) = 0"
   ]
  },
  {
   "cell_type": "code",
   "execution_count": 8,
   "metadata": {},
   "outputs": [
    {
     "name": "stdout",
     "output_type": "stream",
     "text": [
      "El ángulo de necesario es 34.3º\n"
     ]
    }
   ],
   "source": [
    "import math\n",
    "SG_madera = 0.65\n",
    "ɣw = 9790 #N/m^3\n",
    "altura_madera = 0.1\n",
    "base_madera = 0.1\n",
    "Volumen_madera = altura_madera * base_madera * 3\n",
    "H = 1.225\n",
    "dist_A_water = 1\n",
    "\n",
    "W = SG_madera * ɣw * Volumen_madera\n",
    "B = ɣw * altura_madera * base_madera * H\n",
    "\n",
    "#Mirando el dibujo finlamente obtenemos que:\n",
    "\n",
    "θ = math.asin(dist_A_water/(3-H)) *(360/(2*math.pi)) # No acabo de entender como lo hace\n",
    "print('El ángulo de necesario es %4.3gº' %θ)"
   ]
  },
  {
   "cell_type": "code",
   "execution_count": null,
   "metadata": {},
   "outputs": [],
   "source": []
  }
 ],
 "metadata": {
  "kernelspec": {
   "display_name": "Python 3",
   "language": "python",
   "name": "python3"
  },
  "language_info": {
   "codemirror_mode": {
    "name": "ipython",
    "version": 3
   },
   "file_extension": ".py",
   "mimetype": "text/x-python",
   "name": "python",
   "nbconvert_exporter": "python",
   "pygments_lexer": "ipython3",
   "version": "3.8.5"
  }
 },
 "nbformat": 4,
 "nbformat_minor": 4
}
